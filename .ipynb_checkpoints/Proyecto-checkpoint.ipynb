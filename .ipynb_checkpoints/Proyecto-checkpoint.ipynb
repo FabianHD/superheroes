{
 "cells": [
  {
   "cell_type": "markdown",
   "metadata": {},
   "source": [
    "# Project Time\n",
    "\n",
    "😱😱😱😱😱😱😱😱"
   ]
  },
  {
   "cell_type": "markdown",
   "metadata": {},
   "source": [
    "**1.** Busca un Dataset de tu interés (pokémon, fútbol, literatura, marketing, medicina...TODO es válido) con el que te gustaría trabajar tu proyecto. [kaggle](https://www.kaggle.com/datasets). Recuerda que tu proyecto DEBE usar algún modelo de ML, NO VALE sólo hacer un análisis exploratorio descriptivo, NO VALE sólo hacer un dashboard, NO VALE presentar mil gráficas bonitas y ya. TIENE QUE LLEVAR ALGÚN MODELO DE ML (REGRESIÓN, CLASIFICACIÓN, CLUSTERING, OTRO...).\n",
    "\n",
    "\n",
    "----------------"
   ]
  },
  {
   "cell_type": "markdown",
   "metadata": {},
   "source": [
    "**2.** Ya que tengas tus datos, léelos, lee la documentación, haz un diccionario de variables y define qué vas a hacer en tu proyecto, ¿te faltan datos? ¿Deberías de investigar un algoritmo que no hayamos visto para alcanzar tu objetivo?"
   ]
  },
  {
   "cell_type": "markdown",
   "metadata": {},
   "source": [
    "|Variable| Descripción|\n",
    "|---------|------------|\n",
    "|#| Id|\n",
    "|name| Nombre del superhéroe|\n",
    "|Gender| Género del superhéroe (Male, Female)|\n",
    "|Eye color| Color de ojos|\n",
    "|Race| Raza|\n",
    "|Hair color| Color de cabello|\n",
    "|Height| Altura|\n",
    "|Publisher| Publicante (Marvel o DC)|\n",
    "|Skin color| Color de piel|\n",
    "|Alignment| Bando (good, bad)|\n",
    "|Weight| Peso|\n",
    "|super_hero_powers| 168 variables sobre los diferentes tipos de superpoderes que tienen los superhéroes (True, False)|"
   ]
  },
  {
   "cell_type": "markdown",
   "metadata": {},
   "source": [
    "En el proyecto se manejará una base de datos de superhéroes para clasificarlos a partir del universo al que pertenecen, es decir, verificar si pertenecen al MCU o al DC Universe. Se utilizarán Árboles de Decisión, Random Forest y GBM para probar qué modelo clasifica mejor. "
   ]
  },
  {
   "cell_type": "markdown",
   "metadata": {},
   "source": [
    "--------------------------------------\n",
    "\n",
    "**3.** A continuación te presento la metodología que debe seguirse en un proyecto de ML (revisada a fondo en el curso de introducción a la ciencia de datos impartido por esta misma empresa). Leélo todo y si tienes algún duda pregúntale al asesor que se te asignó.\n",
    "\n",
    "\n",
    "# Metodología de un proyecto de *Data Science* de Inicio a Final\n",
    "\n",
    "1. Observación a gran escala \n",
    "    + Analizar el problema de negocio\n",
    "    + Preguntarse:\n",
    "        + ¿Cúal es el objetivo de negocio?\n",
    "        + ¿Qué espera la compañía obtener al generar un modelo predictivo?\n",
    "    \n",
    "2. Recolectar los datos \n",
    "    + SQL\n",
    "    + NOSQL\n",
    "       + MongoDB\n",
    "    + *BigData* \n",
    "       + *Hive*\n",
    "       + *Spark-SQL*\n",
    "    \n",
    "3. Analizar, visualizar y hacer minería de datos para obtener *insights* (clave para el negocio)\n",
    "    + AED (Análisis Exploratorio Descriptivo) *se recomienda que se haga en el conjunto de entrenamiento*\n",
    "        + Correlaciones\n",
    "        + Datos nulos\n",
    "        + Intuición de los datos (qué esperas obtener del modelo)\n",
    "4. Preparar los datos para el/los algoritmos de ML\n",
    "    + Tratamiento de variables:\n",
    "        + Categóricas\n",
    "        + Numéricas\n",
    "        + Fechas\n",
    "        + Limpieza de datos (despues del AED)\n",
    "        + Generación de variables (¡siempre y cuando tenga sentido agregarlas! Que tengan una razón de entrar al modelo (historia))\n",
    "            + Transformaciones de ellas\n",
    "            + Tratamiento de fechas\n",
    "            + Cocientes\n",
    "            + Métricas de negocio\n",
    "5. Seleccionar el modelo y entrenarlo\n",
    "    + Seleccionar una métrica de evaluación adecuada\n",
    "    \n",
    "6. Presentar la solución\n",
    "    + Problema de negocio\n",
    "    + Descripción del modelo predictivo (con manzanitas)\n",
    "    + Presentación de resultados\n",
    "        + Gráfico de *lift*\n",
    "        + Métrica de evaluación (si es intuitiva)\n",
    "    + *Insights*\n",
    "        + Valor de Coeficientes\n",
    "        + Importancia de variables\n",
    "        + Gráfica de Efectos Marginales\n",
    "7. Automatizar el modelo (Producto de Datos): por medio del desarrollo, monitoreo y mantenimiento de tu sistema.\n",
    "    + Los mismos pasos anteriores pero automáticos. :v"
   ]
  },
  {
   "cell_type": "markdown",
   "metadata": {},
   "source": [
    "--------------------------\n",
    "\n",
    "# ¿Te quedaron dudas? Si la respuesta es no NOS ESTÁS MINTIENDO. \n",
    "\n",
    "## A CONTINUACIÓN TE PRESENTO PREGUNTAS DE VERDADERA Y FALSO, SI TIENES DUDA EN ALGUNA, VE Y RESUELVE TU DUDA ANTES DE HACER TU PROYECTO.\n",
    "\n",
    "\n",
    "1. El rellenado de valores nulos debe hacer ANTES del AED\n",
    "2. Las variables categóricas deben escalarse\n",
    "3. Es necesario estandarizar las variables en regresiones lineales\n",
    "4. La estandarización de las variables se hace sobre TODAS las variables y despúes se parte en train y test\n",
    "5. El tamaño estándar del conjunto de prueba y entrenamiento es 80/20\n",
    "6. En problemas de clasificación, una muestra no balanceada no debería causarte problemas.\n",
    "7. Si no conoces la etiqueta, tu única opción es resolver el problema por clustering.\n",
    "8. Rellenar los valores nulos de tu dataset con el valor promedio es una buena idea.\n",
    "9. Dos modelos entrenados con muestras aleatorias diferentes de entrenamiento del mismo tamaño son comparables\n",
    "10. No es necesario estandarizar las variables para árboles de decisión ni clusterings.\n",
    "11. TODOS los algoritmos de ML son afectados por la multicolinealidad.\n"
   ]
  }
 ],
 "metadata": {
  "kernelspec": {
   "display_name": "Python 3",
   "language": "python",
   "name": "python3"
  },
  "language_info": {
   "codemirror_mode": {
    "name": "ipython",
    "version": 3
   },
   "file_extension": ".py",
   "mimetype": "text/x-python",
   "name": "python",
   "nbconvert_exporter": "python",
   "pygments_lexer": "ipython3",
   "version": "3.8.3"
  }
 },
 "nbformat": 4,
 "nbformat_minor": 4
}
